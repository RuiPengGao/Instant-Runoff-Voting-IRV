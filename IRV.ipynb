{
 "cells": [
  {
   "cell_type": "code",
   "execution_count": 62,
   "metadata": {
    "collapsed": false
   },
   "outputs": [
    {
     "name": "stdout",
     "output_type": "stream",
     "text": [
      "['1', '3', '4', '5', '2']\n",
      "['4', '2', '5', '3', '1']\n",
      "['1', '3', '2', '5', '4']\n",
      "['1', '2', '4', '3', '5']\n",
      "['1', '3', '4', '5', '2']\n",
      "['2', '1', '3', '5', '4']\n",
      "['1', '3', '4', '5', '2']\n",
      "['3', '5', '2', '4', '1']\n",
      "['1', '4', '5', '2', '3']\n",
      "['5', '1', '4', '3', '2']\n",
      "['3', '2', '5', '4', '1']\n",
      "['3', '1', '2', '5', '4']\n",
      "['2', '5', '1', '4', '3']\n",
      "['3', '2', '1', '4', '5']\n",
      "['4', '5', '3', '1', '2']\n",
      "['1', '5', '4', '3', '2']\n",
      "['1', '5', '3', '4', '2']\n",
      "['2', '1', '4', '3', '5']\n",
      "['4', '1', '2', '5', '3']\n",
      "[['1', '3', '4', '5', '2'], ['4', '2', '5', '3', '1'], ['1', '3', '2', '5', '4'], ['1', '2', '4', '3', '5'], ['1', '3', '4', '5', '2'], ['2', '1', '3', '5', '4'], ['1', '3', '4', '5', '2'], ['3', '5', '2', '4', '1'], ['1', '4', '5', '2', '3'], ['5', '1', '4', '3', '2'], ['3', '2', '5', '4', '1'], ['3', '1', '2', '5', '4'], ['2', '5', '1', '4', '3'], ['3', '2', '1', '4', '5'], ['4', '5', '3', '1', '2'], ['1', '5', '4', '3', '2'], ['1', '5', '3', '4', '2'], ['2', '1', '4', '3', '5'], ['4', '1', '2', '5', '3']]\n"
     ]
    }
   ],
   "source": [
    "ballots = []\n",
    "with open(\"ballot.txt\") as file:\n",
    "    for ballot in file: \n",
    "        ballot = ballot.strip()\n",
    "        ballot = ballot.split(',')\n",
    "        print(ballot)\n",
    "        ballots.append(ballot)\n",
    "\n",
    "print(ballots)\n"
   ]
  },
  {
   "cell_type": "code",
   "execution_count": 63,
   "metadata": {
    "collapsed": false
   },
   "outputs": [
    {
     "name": "stdout",
     "output_type": "stream",
     "text": [
      "Major Clanger\n",
      "Soup Dragon\n",
      "Froglet\n",
      "Iron Chicken\n",
      "The Cloud\n",
      "['Major Clanger', 'Soup Dragon', 'Froglet', 'Iron Chicken', 'The Cloud']\n"
     ]
    }
   ],
   "source": [
    "candies = []\n",
    "with open(\"candidates.txt\") as file:\n",
    "    for candie in file: \n",
    "        candie = candie.strip()\n",
    "        print(candie)\n",
    "        candies.append(candie)\n",
    "\n",
    "print(candies)"
   ]
  },
  {
   "cell_type": "code",
   "execution_count": 64,
   "metadata": {
    "collapsed": true
   },
   "outputs": [],
   "source": [
    "def majority_gained():\n",
    "    \n",
    "    numCandies = len(ballots[0])\n",
    "    \n",
    "    for i in range(0,19):\n",
    "        for j in range (0,numCandies):\n",
    "            if ballots[i][j] == '1':\n",
    "                array[j] = array[j]+1\n",
    "                \n",
    "    for i in range (0,numCandies):\n",
    "        print(array[i],\" \",candies[i])\n",
    "\n",
    "    voters = len(ballots)\n",
    "#     print(voters)\n",
    "\n",
    "    for i in range(0,numCandies):\n",
    "        if array[i] > ((voters / 2) + 1):\n",
    "            print(\"Winner is: \",candies[array.index(array[i])])\n",
    "            \n",
    "            break\n",
    "            \n",
    "    \n",
    "#     print(\"Min No of Votes: \",min(array))\n",
    "    \n",
    "\n",
    "    min_index = array.index(min(array))\n",
    "#     print(\"Index of min value: \",index)"
   ]
  },
  {
   "cell_type": "code",
   "execution_count": 65,
   "metadata": {
    "collapsed": true
   },
   "outputs": [],
   "source": [
    "def deleteCandie():   \n",
    "    \n",
    "    numCandies = len(ballots[0])\n",
    "#     print(\"No of candidates\")\n",
    "    \n",
    "    min_index = array.index(min(array))\n",
    "#     print(\"Index\",min_index)\n",
    "    \n",
    "    for i in range(0,19):\n",
    "        if ballots[i][min_index] == '4':\n",
    "            for j in range (0,numCandies):\n",
    "                if ballots[i][j] == '5':\n",
    "                    ballots[i][j] = '4'\n",
    "                    \n",
    "        elif ballots[i][min_index] == '2':\n",
    "            for j in range (0,numCandies):\n",
    "                if ballots[i][j] == '5':\n",
    "                    ballots[i][j] = '4'\n",
    "                elif ballots[i][j] == '4':\n",
    "                    ballots[i][j] = '3'\n",
    "                elif ballots[i][j] == '3':\n",
    "                    ballots[i][j] = '2'\n",
    "                    \n",
    "        elif ballots[i][min_index] == '1':\n",
    "            for j in range (0,numCandies):\n",
    "                if ballots[i][j] == '5':\n",
    "                    ballots[i][j] = '4'\n",
    "                elif ballots[i][j] == '4':\n",
    "                    ballots[i][j] = '3'\n",
    "                elif ballots[i][j] == '3':\n",
    "                    ballots[i][j] = '2'\n",
    "                elif ballots[i][j] == '2':\n",
    "                    ballots[i][j] = '1'\n",
    "\n",
    "        elif ballots[i][min_index] == '3':\n",
    "            for j in range (0,numCandies):\n",
    "                if ballots[i][j] == '5':\n",
    "                    ballots[i][j] = '4'\n",
    "                elif ballots[i][j] == '4':\n",
    "                    ballots[i][j] = '3'\n",
    "\n",
    "#     print(candies[min(array)], \"has smallest no of votes and is eliminated from array\")\n",
    "    print(\" \")\n",
    "    \n",
    "    for i in range(0,19):\n",
    "        del ballots[i][min_index]\n",
    "        \n",
    "    del candies[min_index]\n",
    "\n",
    "#     print(lines)    \n"
   ]
  },
  {
   "cell_type": "code",
   "execution_count": 66,
   "metadata": {
    "collapsed": false
   },
   "outputs": [
    {
     "name": "stdout",
     "output_type": "stream",
     "text": [
      "Array length:  5\n",
      "8   Major Clanger\n",
      "5   Soup Dragon\n",
      "2   Froglet\n",
      "1   Iron Chicken\n",
      "3   The Cloud\n",
      " \n",
      "Array length:  4\n",
      "8   Major Clanger\n",
      "5   Soup Dragon\n",
      "2   Froglet\n",
      "4   The Cloud\n",
      " \n",
      "Array length:  3\n",
      "9   Major Clanger\n",
      "6   Soup Dragon\n",
      "4   The Cloud\n",
      " \n",
      "Array length:  2\n",
      "11   Major Clanger\n",
      "8   Soup Dragon\n",
      "Winner is:  Major Clanger\n",
      " \n"
     ]
    }
   ],
   "source": [
    "while (True):   \n",
    "    numCandies = len(ballots[0])\n",
    "    array = [0]*numCandies\n",
    "    for i in range (0,numCandies):\n",
    "        array[i] = 0\n",
    "    \n",
    "    if numCandies == 1:\n",
    "        break\n",
    "    else:\n",
    "        print(\"Array length: \",len(array))\n",
    "        majority_gained()\n",
    "        deleteCandie()"
   ]
  },
  {
   "cell_type": "code",
   "execution_count": null,
   "metadata": {
    "collapsed": true
   },
   "outputs": [],
   "source": []
  },
  {
   "cell_type": "code",
   "execution_count": null,
   "metadata": {
    "collapsed": true
   },
   "outputs": [],
   "source": []
  }
 ],
 "metadata": {
  "anaconda-cloud": {},
  "kernelspec": {
   "display_name": "Python 2",
   "language": "python",
   "name": "python2"
  },
  "language_info": {
   "codemirror_mode": {
    "name": "ipython",
    "version": 2
   },
   "file_extension": ".py",
   "mimetype": "text/x-python",
   "name": "python",
   "nbconvert_exporter": "python",
   "pygments_lexer": "ipython2",
   "version": "2.7.11"
  }
 },
 "nbformat": 4,
 "nbformat_minor": 1
}
